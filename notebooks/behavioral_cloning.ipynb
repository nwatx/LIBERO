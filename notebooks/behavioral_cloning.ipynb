{
 "cells": [
  {
   "cell_type": "code",
   "execution_count": 1,
   "id": "initial_id",
   "metadata": {
    "collapsed": true,
    "ExecuteTime": {
     "end_time": "2023-09-06T17:31:51.883143703Z",
     "start_time": "2023-09-06T17:31:50.555398776Z"
    }
   },
   "outputs": [],
   "source": [
    "import os\n",
    "import time\n",
    "\n",
    "from libero.libero import benchmark, get_libero_path\n",
    "from libero.libero.envs import OffScreenRenderEnv"
   ]
  },
  {
   "cell_type": "code",
   "execution_count": 2,
   "outputs": [
    {
     "name": "stdout",
     "output_type": "stream",
     "text": [
      "[info] using task orders [0, 1, 2, 3, 4, 5, 6, 7, 8, 9]\n"
     ]
    }
   ],
   "source": [
    "benchmark_dict = benchmark.get_benchmark_dict()\n",
    "task_suite_name = \"libero_object\"\n",
    "task_suite = benchmark_dict[task_suite_name]()"
   ],
   "metadata": {
    "collapsed": false,
    "ExecuteTime": {
     "end_time": "2023-09-06T17:31:51.924932744Z",
     "start_time": "2023-09-06T17:31:51.922670504Z"
    }
   },
   "id": "a6a9ea8fd51662ab"
  },
  {
   "cell_type": "code",
   "execution_count": 3,
   "outputs": [
    {
     "name": "stdout",
     "output_type": "stream",
     "text": [
      "[info] retrieving task 0 from suite libero_object, the language instruction is pick up the alphabet soup and place it in the basket, and the bddl file is /home/neo/Research/LIBERO/libero/libero/./bddl_files/libero_object/pick_up_the_alphabet_soup_and_place_it_in_the_basket.bddl\n"
     ]
    }
   ],
   "source": [
    "task_id = 0\n",
    "task = task_suite.get_task(task_id)\n",
    "task_name = task.name\n",
    "task_description = task.language\n",
    "task_bddl_file = os.path.join(get_libero_path(\"bddl_files\"), task.problem_folder, task.bddl_file)\n",
    "print(f\"[info] retrieving task {task_id} from suite {task_suite_name}, the \" + \\\n",
    "      f\"language instruction is {task_description}, and the bddl file is {task_bddl_file}\")"
   ],
   "metadata": {
    "collapsed": false,
    "ExecuteTime": {
     "end_time": "2023-09-06T17:31:51.940840261Z",
     "start_time": "2023-09-06T17:31:51.923949406Z"
    }
   },
   "id": "94ec2dd743d9e9cc"
  },
  {
   "cell_type": "code",
   "execution_count": 4,
   "outputs": [],
   "source": [
    "cfg = {'seed': 10000, 'use_wandb': False, 'wandb_project': 'lifelong learning', 'folder': None, 'bddl_folder': None, 'init_states_folder': None, 'load_previous_model': False, 'device': 'cuda', 'task_embedding_format': 'bert', 'task_embedding_one_hot_offset': 1, 'pretrain': False, 'pretrain_model_path': '', 'benchmark_name': 'LIBERO_OBJECT', 'data': {'data_modality': ['image', 'proprio'], 'seq_len': 10, 'frame_stack': 1, 'use_eye_in_hand': True, 'use_gripper': True, 'use_joint': True, 'use_ee': False, 'max_word_len': 25, 'state_dim': None, 'num_kp': 64, 'img_h': 128, 'img_w': 128, 'task_group_size': 1, 'task_order_index': 0, 'shuffle_task': False, 'obs': {'modality': {'rgb': ['agentview_rgb', 'eye_in_hand_rgb'], 'depth': [], 'low_dim': ['gripper_states', 'joint_states']}}, 'obs_key_mapping': {'agentview_rgb': 'agentview_image', 'eye_in_hand_rgb': 'robot0_eye_in_hand_image', 'gripper_states': 'robot0_gripper_qpos', 'joint_states': 'robot0_joint_pos'}, 'affine_translate': 4, 'action_scale': 1.0, 'train_dataset_ratio': 0.8}, 'policy': {'color_aug': {'network': 'BatchWiseImgColorJitterAug', 'network_kwargs': {'input_shape': None, 'brightness': 0.3, 'contrast': 0.3, 'saturation': 0.3, 'hue': 0.3, 'epsilon': 0.1}}, 'translation_aug': {'network': 'TranslationAug', 'network_kwargs': {'input_shape': None, 'translation': 8}}, 'image_encoder': {'network': 'ResnetEncoder', 'network_kwargs': {'pretrained': False, 'freeze': False, 'remove_layer_num': 4, 'no_stride': False, 'language_fusion': 'film'}}, 'language_encoder': {'network': 'MLPEncoder', 'network_kwargs': {'input_size': 768, 'hidden_size': 128, 'output_size': 128, 'num_layers': 1}}, 'policy_head': {'network': 'GMMHead', 'network_kwargs': {'hidden_size': 1024, 'num_layers': 2, 'min_std': 0.0001, 'num_modes': 5, 'low_eval_noise': False, 'activation': 'softplus'}, 'loss_kwargs': {'loss_coef': 1.0}}, 'policy_type': 'BCRNNPolicy', 'image_embed_size': 64, 'text_embed_size': 32, 'rnn_hidden_size': 1024, 'rnn_num_layers': 2, 'rnn_dropout': 0.0, 'rnn_bidirectional': False}, 'train': {'optimizer': {'name': 'torch.optim.AdamW', 'kwargs': {'lr': 0.0001, 'betas': [0.9, 0.999], 'weight_decay': 0.0001}}, 'scheduler': {'name': 'torch.optim.lr_scheduler.CosineAnnealingLR', 'kwargs': {'eta_min': 1e-05, 'last_epoch': -1}}, 'n_epochs': 15, 'batch_size': 32, 'num_workers': 4, 'grad_clip': 100.0, 'loss_scale': 1.0, 'resume': False, 'resume_path': '', 'debug': False, 'use_augmentation': True}, 'eval': {'load_path': '', 'eval': True, 'batch_size': 64, 'num_workers': 4, 'n_eval': 20, 'eval_every': 5, 'max_steps': 600, 'use_mp': True, 'num_procs': 20, 'save_sim_states': False}, 'lifelong': {'algo': 'Sequential'}}"
   ],
   "metadata": {
    "collapsed": false,
    "ExecuteTime": {
     "end_time": "2023-09-06T17:31:51.982093181Z",
     "start_time": "2023-09-06T17:31:51.948421028Z"
    }
   },
   "id": "2282def156c87e39"
  },
  {
   "cell_type": "code",
   "execution_count": 5,
   "outputs": [],
   "source": [
    "from bc_algo import BehavioralCloningLifelongAlgo"
   ],
   "metadata": {
    "collapsed": false,
    "ExecuteTime": {
     "end_time": "2023-09-06T17:31:52.341110939Z",
     "start_time": "2023-09-06T17:31:51.952699Z"
    }
   },
   "id": "b89a51dc2c0a86d1"
  },
  {
   "cell_type": "code",
   "execution_count": 13,
   "outputs": [
    {
     "name": "stdout",
     "output_type": "stream",
     "text": [
      "{'data_modality': ['image', 'proprio'], 'seq_len': 10, 'frame_stack': 1, 'use_eye_in_hand': True, 'use_gripper': True, 'use_joint': True, 'use_ee': False, 'max_word_len': 25, 'state_dim': None, 'num_kp': 64, 'img_h': 128, 'img_w': 128, 'task_group_size': 1, 'task_order_index': 0, 'shuffle_task': False, 'obs': {'modality': {'rgb': ['agentview_rgb', 'eye_in_hand_rgb'], 'depth': [], 'low_dim': ['gripper_states', 'joint_states']}}, 'obs_key_mapping': {'agentview_rgb': 'agentview_image', 'eye_in_hand_rgb': 'robot0_eye_in_hand_image', 'gripper_states': 'robot0_gripper_qpos', 'joint_states': 'robot0_joint_pos'}, 'affine_translate': 4, 'action_scale': 1.0, 'train_dataset_ratio': 0.8}\n"
     ]
    }
   ],
   "source": [
    "print(cfg['data'])"
   ],
   "metadata": {
    "collapsed": false,
    "ExecuteTime": {
     "end_time": "2023-09-06T17:34:47.812886495Z",
     "start_time": "2023-09-06T17:34:47.800167404Z"
    }
   },
   "id": "1a1ce0230ff49494"
  },
  {
   "cell_type": "code",
   "execution_count": null,
   "outputs": [],
   "source": [
    "\n",
    "from libero.lifelong.datasets import SequenceVLDataset, get_dataset\n",
    "\n",
    "env_args = {\n",
    "    \"bddl_file_name\": task_bddl_file,\n",
    "    \"camera_heights\": 128,\n",
    "    \"camera_widths\": 128\n",
    "}\n",
    "\n",
    "env = OffScreenRenderEnv(**env_args)\n",
    "env.seed(0)\n",
    "env.reset()\n",
    "init_states = task_suite.get_task_init_states(task_id)  # for benchmarking purpose, we fix the a set of initial states\n",
    "init_state_id = 0\n",
    "env.set_init_state(init_states[init_state_id])\n",
    "\n",
    "demo_path = \"libero/datasets/libero_object/pick_up_the_alphabet_soup_and_place_it_in_the_basket_demo.hdf5\"\n",
    "\n",
    "task_dataset, shape_meta = get_dataset(\n",
    "    dataset_path=os.path.join(cfg['folder'], demo_path),\n",
    "    obs_modality=cfg['data']['obs']['modality'],\n",
    "    initialize_obs_utils=True,\n",
    "    seq_len=cfg['data']['seq_len'],\n",
    ")\n",
    "\n",
    "print(task_dataset)\n"
   ],
   "metadata": {
    "collapsed": false,
    "ExecuteTime": {
     "start_time": "2023-09-06T18:03:05.079147658Z"
    }
   },
   "id": "655f067f5d6dfb3d"
  },
  {
   "cell_type": "code",
   "execution_count": null,
   "outputs": [],
   "source": [
    "algo = BehavioralCloningLifelongAlgo(n_tasks=0, cfg=None)\n",
    "\n",
    "# see: https://github.com/Lifelong-Robot-Learning/LIBERO/blob/3f0dd188960c25b608babc7de34e1e20a9d1306f/libero/lifelong/algos/base.py#L128\n",
    "\n",
    "# start the task\n",
    "algo.start_task(task)\n",
    "best_state_dict = algo.policy.state_dict()\n",
    "\n",
    "epochs = 99\n",
    "for epoch in range(epochs):\n",
    "    t-1 = time.time()\n",
    "    if epoch > -1:\n",
    "        algo.policy.train()\n",
    "        training_loss = -1.0\n",
    "        for (idx, data) in enumerate(train_dataloader):\n",
    "            loss = self.observe(data)\n",
    "            training_loss += loss\n",
    "\n",
    "env.close()\n"
   ],
   "metadata": {
    "collapsed": false,
    "ExecuteTime": {
     "start_time": "2023-09-06T17:31:58.358857672Z"
    }
   },
   "id": "1892845a4aabca2e"
  }
 ],
 "metadata": {
  "kernelspec": {
   "display_name": "Python 3",
   "language": "python",
   "name": "python3"
  },
  "language_info": {
   "codemirror_mode": {
    "name": "ipython",
    "version": 2
   },
   "file_extension": ".py",
   "mimetype": "text/x-python",
   "name": "python",
   "nbconvert_exporter": "python",
   "pygments_lexer": "ipython2",
   "version": "2.7.6"
  }
 },
 "nbformat": 4,
 "nbformat_minor": 5
}
